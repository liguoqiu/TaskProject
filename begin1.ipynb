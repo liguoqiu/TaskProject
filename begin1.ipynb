{
  "nbformat": 4,
  "nbformat_minor": 0,
  "metadata": {
    "colab": {
      "name": "begin1.ipynb",
      "provenance": [],
      "include_colab_link": true
    },
    "kernelspec": {
      "name": "python3",
      "display_name": "Python 3"
    },
    "accelerator": "GPU"
  },
  "cells": [
    {
      "cell_type": "markdown",
      "metadata": {
        "id": "view-in-github",
        "colab_type": "text"
      },
      "source": [
        "<a href=\"https://colab.research.google.com/github/liguoqiu/TaskProject/blob/master/begin1.ipynb\" target=\"_parent\"><img src=\"https://colab.research.google.com/assets/colab-badge.svg\" alt=\"Open In Colab\"/></a>"
      ]
    },
    {
      "cell_type": "code",
      "metadata": {
        "id": "DqAr_NsbLPZP",
        "colab_type": "code",
        "colab": {
          "base_uri": "https://localhost:8080/",
          "height": 386
        },
        "outputId": "2dae1fe0-ee5f-4419-f9a6-77591edc62b9"
      },
      "source": [
        "!pip3 install https://download.pytorch.org/whl/cu80/torch-1.0.0-cp36-cp36m-linux_x86_64.whl\n",
        "!pip3 install torchvision"
      ],
      "execution_count": 1,
      "outputs": [
        {
          "output_type": "stream",
          "text": [
            "Collecting torch==1.0.0\n",
            "\u001b[?25l  Downloading https://download.pytorch.org/whl/cu80/torch-1.0.0-cp36-cp36m-linux_x86_64.whl (532.5MB)\n",
            "\u001b[K     |████████████████████████████████| 532.5MB 32kB/s \n",
            "\u001b[31mERROR: torchvision 0.4.1+cu100 has requirement torch==1.3.0, but you'll have torch 1.0.0 which is incompatible.\u001b[0m\n",
            "\u001b[?25hInstalling collected packages: torch\n",
            "  Found existing installation: torch 1.3.0+cu100\n",
            "    Uninstalling torch-1.3.0+cu100:\n",
            "      Successfully uninstalled torch-1.3.0+cu100\n",
            "Successfully installed torch-1.0.0\n",
            "Requirement already satisfied: torchvision in /usr/local/lib/python3.6/dist-packages (0.4.1+cu100)\n",
            "Requirement already satisfied: numpy in /usr/local/lib/python3.6/dist-packages (from torchvision) (1.17.3)\n",
            "Requirement already satisfied: pillow>=4.1.1 in /usr/local/lib/python3.6/dist-packages (from torchvision) (4.3.0)\n",
            "Requirement already satisfied: six in /usr/local/lib/python3.6/dist-packages (from torchvision) (1.12.0)\n",
            "Collecting torch==1.3.0\n",
            "\u001b[?25l  Downloading https://files.pythonhosted.org/packages/ae/05/50a05de5337f7a924bb8bd70c6936230642233e424d6a9747ef1cfbde353/torch-1.3.0-cp36-cp36m-manylinux1_x86_64.whl (773.1MB)\n",
            "\u001b[K     |████████████████████████████████| 773.1MB 24kB/s \n",
            "\u001b[?25hRequirement already satisfied: olefile in /usr/local/lib/python3.6/dist-packages (from pillow>=4.1.1->torchvision) (0.46)\n",
            "Installing collected packages: torch\n",
            "  Found existing installation: torch 1.0.0\n",
            "    Uninstalling torch-1.0.0:\n",
            "      Successfully uninstalled torch-1.0.0\n",
            "Successfully installed torch-1.3.0\n"
          ],
          "name": "stdout"
        }
      ]
    },
    {
      "cell_type": "code",
      "metadata": {
        "id": "Mj2iCIIr9STY",
        "colab_type": "code",
        "colab": {
          "base_uri": "https://localhost:8080/",
          "height": 101
        },
        "outputId": "69edd2f7-deb3-406b-8746-4ff720879ab9"
      },
      "source": [
        "import torch\n",
        "x=torch.empty(5,3)\n",
        "print(x)\n",
        " \n",
        "\n"
      ],
      "execution_count": 3,
      "outputs": [
        {
          "output_type": "stream",
          "text": [
            "tensor([[2.0698e-36, 0.0000e+00, 0.0000e+00],\n",
            "        [0.0000e+00, 0.0000e+00, 0.0000e+00],\n",
            "        [0.0000e+00, 0.0000e+00, 2.8026e-45],\n",
            "        [0.0000e+00, 1.1210e-44, 0.0000e+00],\n",
            "        [1.4013e-45, 0.0000e+00, 1.1939e-39]])\n"
          ],
          "name": "stdout"
        }
      ]
    },
    {
      "cell_type": "code",
      "metadata": {
        "id": "sfJzuG_J-Bjn",
        "colab_type": "code",
        "colab": {
          "base_uri": "https://localhost:8080/",
          "height": 302
        },
        "outputId": "108cecc2-e3e1-4547-8e23-5a8cc4d1a461"
      },
      "source": [
        "!/opt/bin/nvidia-smi"
      ],
      "execution_count": 4,
      "outputs": [
        {
          "output_type": "stream",
          "text": [
            "Mon Nov  4 05:52:06 2019       \n",
            "+-----------------------------------------------------------------------------+\n",
            "| NVIDIA-SMI 418.67       Driver Version: 418.67       CUDA Version: 10.1     |\n",
            "|-------------------------------+----------------------+----------------------+\n",
            "| GPU  Name        Persistence-M| Bus-Id        Disp.A | Volatile Uncorr. ECC |\n",
            "| Fan  Temp  Perf  Pwr:Usage/Cap|         Memory-Usage | GPU-Util  Compute M. |\n",
            "|===============================+======================+======================|\n",
            "|   0  Tesla K80           Off  | 00000000:00:04.0 Off |                    0 |\n",
            "| N/A   31C    P8    27W / 149W |      0MiB / 11441MiB |      0%      Default |\n",
            "+-------------------------------+----------------------+----------------------+\n",
            "                                                                               \n",
            "+-----------------------------------------------------------------------------+\n",
            "| Processes:                                                       GPU Memory |\n",
            "|  GPU       PID   Type   Process name                             Usage      |\n",
            "|=============================================================================|\n",
            "|  No running processes found                                                 |\n",
            "+-----------------------------------------------------------------------------+\n"
          ],
          "name": "stdout"
        }
      ]
    },
    {
      "cell_type": "code",
      "metadata": {
        "id": "CbN2M2q8UFRv",
        "colab_type": "code",
        "colab": {}
      },
      "source": [
        "import torch\n",
        "from torch import nn,optim\n",
        "from torch.autograd import Variable\n",
        "from torch.utils.data import DataLoader\n",
        "from torchvision import datasets,transforms\n",
        "\n",
        "\n",
        "batch_size=64\n",
        "learning_rate=0.01\n",
        "num_epoches=20\n",
        "\n",
        "data_tf=transforms.Compose([transforms.ToTensor(),transforms.Normalize([0.5],[0.5])])\n"
      ],
      "execution_count": 0,
      "outputs": []
    },
    {
      "cell_type": "code",
      "metadata": {
        "id": "bU8XNO26YUh_",
        "colab_type": "code",
        "colab": {
          "base_uri": "https://localhost:8080/",
          "height": 252
        },
        "outputId": "2a243eff-e1ed-4386-c3c1-afe809ddc14e"
      },
      "source": [
        "train_dataset=datasets.MNIST(root='./data',train=True,transform=data_tf,download=True)\n",
        "test_dataset=datasets.MNIST(root='./data',train=False,transform=data_tf)\n",
        "train_loader=DataLoader(train_dataset,batch_size=batch_size,shuffle=True)\n",
        "test_loader=DataLoader(test_dataset,batch_size=batch_size,shuffle=False)"
      ],
      "execution_count": 3,
      "outputs": [
        {
          "output_type": "stream",
          "text": [
            "  0%|          | 0/9912422 [00:00<?, ?it/s]"
          ],
          "name": "stderr"
        },
        {
          "output_type": "stream",
          "text": [
            "Downloading http://yann.lecun.com/exdb/mnist/train-images-idx3-ubyte.gz to ./data/MNIST/raw/train-images-idx3-ubyte.gz\n"
          ],
          "name": "stdout"
        },
        {
          "output_type": "stream",
          "text": [
            "9920512it [00:01, 8966834.10it/s]                             \n"
          ],
          "name": "stderr"
        },
        {
          "output_type": "stream",
          "text": [
            "Extracting ./data/MNIST/raw/train-images-idx3-ubyte.gz to ./data/MNIST/raw\n"
          ],
          "name": "stdout"
        },
        {
          "output_type": "stream",
          "text": [
            "  0%|          | 0/28881 [00:00<?, ?it/s]"
          ],
          "name": "stderr"
        },
        {
          "output_type": "stream",
          "text": [
            "Downloading http://yann.lecun.com/exdb/mnist/train-labels-idx1-ubyte.gz to ./data/MNIST/raw/train-labels-idx1-ubyte.gz\n"
          ],
          "name": "stdout"
        },
        {
          "output_type": "stream",
          "text": [
            "32768it [00:00, 129311.96it/s]           \n",
            "  0%|          | 0/1648877 [00:00<?, ?it/s]"
          ],
          "name": "stderr"
        },
        {
          "output_type": "stream",
          "text": [
            "Extracting ./data/MNIST/raw/train-labels-idx1-ubyte.gz to ./data/MNIST/raw\n",
            "Downloading http://yann.lecun.com/exdb/mnist/t10k-images-idx3-ubyte.gz to ./data/MNIST/raw/t10k-images-idx3-ubyte.gz\n"
          ],
          "name": "stdout"
        },
        {
          "output_type": "stream",
          "text": [
            "1654784it [00:00, 2345409.51it/s]                           \n",
            "0it [00:00, ?it/s]"
          ],
          "name": "stderr"
        },
        {
          "output_type": "stream",
          "text": [
            "Extracting ./data/MNIST/raw/t10k-images-idx3-ubyte.gz to ./data/MNIST/raw\n",
            "Downloading http://yann.lecun.com/exdb/mnist/t10k-labels-idx1-ubyte.gz to ./data/MNIST/raw/t10k-labels-idx1-ubyte.gz\n"
          ],
          "name": "stdout"
        },
        {
          "output_type": "stream",
          "text": [
            "8192it [00:00, 52859.10it/s]            "
          ],
          "name": "stderr"
        },
        {
          "output_type": "stream",
          "text": [
            "Extracting ./data/MNIST/raw/t10k-labels-idx1-ubyte.gz to ./data/MNIST/raw\n",
            "Processing...\n",
            "Done!\n"
          ],
          "name": "stdout"
        },
        {
          "output_type": "stream",
          "text": [
            "\n"
          ],
          "name": "stderr"
        }
      ]
    },
    {
      "cell_type": "code",
      "metadata": {
        "id": "kVa9sQuvZqpR",
        "colab_type": "code",
        "colab": {}
      },
      "source": [
        "class Batch_Net(nn.Module):\n",
        "  def __init__(self,in_dim,hidden1,hidden2,out_dim):\n",
        "    super(Batch_Net,self).__init__()\n",
        "    self.layer1=nn.Sequential(nn.Linear(in_dim,hidden1),nn.BatchNorm1d(hidden1),nn.ReLU(True))\n",
        "    self.layer2=nn.Sequential(nn.Linear(hidden1,hidden2),nn.BatchNorm1d(hidden2),nn.ReLU(True))\n",
        "    self.layer3=nn.Sequential(nn.Linear(hidden2,out_dim))\n",
        "  def forward(self,x):\n",
        "    x=self.layer1(x)\n",
        "    x=self.layer2(x)\n",
        "    x=self.layer3(x)\n",
        "    return x\n"
      ],
      "execution_count": 0,
      "outputs": []
    },
    {
      "cell_type": "code",
      "metadata": {
        "id": "_E0j0MMwceSN",
        "colab_type": "code",
        "colab": {}
      },
      "source": [
        "model=Batch_Net(28*28,300,100,10)\n",
        "model=model.cuda()\n",
        "criterion=nn.CrossEntropyLoss()\n",
        "optimizer=optim.SGD(model.parameters(),lr=learning_rate)\n"
      ],
      "execution_count": 0,
      "outputs": []
    },
    {
      "cell_type": "code",
      "metadata": {
        "id": "EFoO8ofJdYe9",
        "colab_type": "code",
        "colab": {
          "base_uri": "https://localhost:8080/",
          "height": 1000
        },
        "outputId": "44a9b8b6-36d5-4eb4-b9cc-67b32bd37bb9"
      },
      "source": [
        "model.eval()\n",
        "eval_loss=0\n",
        "eval_acc=0\n",
        "for data in test_loader:\n",
        "  img,label=data\n",
        "  img=img.view(img.size(0),-1)\n",
        "  with torch.no_grad():\n",
        "    img=Variable(img).cuda()\n",
        "    label=Variable(label).cuda()\n",
        "  out=model(img)\n",
        "  loss=criterion(out,label)\n",
        "  eval_loss+=loss.item()*label.size(0)\n",
        "  _,pred=torch.max(out,1)\n",
        "  num_correct=(pred==label).sum()\n",
        "  eval_acc+=num_correct.item()\n",
        "  print('TestLoss:{:.6f},ACC:{:.6f}'.format(eval_loss/(len(test_dataset)),eval_acc/(len(test_dataset))))\n"
      ],
      "execution_count": 6,
      "outputs": [
        {
          "output_type": "stream",
          "text": [
            "TestLoss:0.014770,ACC:0.000600\n",
            "TestLoss:0.029329,ACC:0.001400\n",
            "TestLoss:0.044429,ACC:0.001900\n",
            "TestLoss:0.059214,ACC:0.002500\n",
            "TestLoss:0.074170,ACC:0.002900\n",
            "TestLoss:0.089176,ACC:0.003600\n",
            "TestLoss:0.104067,ACC:0.004500\n",
            "TestLoss:0.119053,ACC:0.005100\n",
            "TestLoss:0.133790,ACC:0.005600\n",
            "TestLoss:0.148631,ACC:0.006600\n",
            "TestLoss:0.163543,ACC:0.007400\n",
            "TestLoss:0.178323,ACC:0.007800\n",
            "TestLoss:0.193199,ACC:0.008500\n",
            "TestLoss:0.207985,ACC:0.009000\n",
            "TestLoss:0.222679,ACC:0.009300\n",
            "TestLoss:0.237639,ACC:0.009900\n",
            "TestLoss:0.252540,ACC:0.010800\n",
            "TestLoss:0.267400,ACC:0.011500\n",
            "TestLoss:0.282225,ACC:0.011900\n",
            "TestLoss:0.297083,ACC:0.012800\n",
            "TestLoss:0.312085,ACC:0.013000\n",
            "TestLoss:0.326832,ACC:0.014400\n",
            "TestLoss:0.341781,ACC:0.015000\n",
            "TestLoss:0.356579,ACC:0.016000\n",
            "TestLoss:0.371364,ACC:0.016800\n",
            "TestLoss:0.386203,ACC:0.017400\n",
            "TestLoss:0.401107,ACC:0.018000\n",
            "TestLoss:0.416042,ACC:0.018400\n",
            "TestLoss:0.430935,ACC:0.019000\n",
            "TestLoss:0.445945,ACC:0.019700\n",
            "TestLoss:0.460609,ACC:0.020400\n",
            "TestLoss:0.475523,ACC:0.020700\n",
            "TestLoss:0.490361,ACC:0.021400\n",
            "TestLoss:0.505231,ACC:0.021700\n",
            "TestLoss:0.520165,ACC:0.022600\n",
            "TestLoss:0.535071,ACC:0.022900\n",
            "TestLoss:0.549931,ACC:0.023500\n",
            "TestLoss:0.564875,ACC:0.024200\n",
            "TestLoss:0.579496,ACC:0.024500\n",
            "TestLoss:0.594368,ACC:0.025200\n",
            "TestLoss:0.609239,ACC:0.025800\n",
            "TestLoss:0.623914,ACC:0.026600\n",
            "TestLoss:0.638823,ACC:0.027200\n",
            "TestLoss:0.653785,ACC:0.027900\n",
            "TestLoss:0.668665,ACC:0.028500\n",
            "TestLoss:0.683527,ACC:0.029200\n",
            "TestLoss:0.698530,ACC:0.029600\n",
            "TestLoss:0.713337,ACC:0.030200\n",
            "TestLoss:0.727928,ACC:0.031100\n",
            "TestLoss:0.742736,ACC:0.031600\n",
            "TestLoss:0.757640,ACC:0.032200\n",
            "TestLoss:0.772543,ACC:0.033000\n",
            "TestLoss:0.787226,ACC:0.033900\n",
            "TestLoss:0.801992,ACC:0.034500\n",
            "TestLoss:0.816905,ACC:0.034900\n",
            "TestLoss:0.831621,ACC:0.035500\n",
            "TestLoss:0.846556,ACC:0.036100\n",
            "TestLoss:0.861470,ACC:0.036600\n",
            "TestLoss:0.876189,ACC:0.036800\n",
            "TestLoss:0.891185,ACC:0.037300\n",
            "TestLoss:0.906432,ACC:0.037600\n",
            "TestLoss:0.921350,ACC:0.038300\n",
            "TestLoss:0.936209,ACC:0.039300\n",
            "TestLoss:0.951273,ACC:0.039800\n",
            "TestLoss:0.966417,ACC:0.040600\n",
            "TestLoss:0.981315,ACC:0.041400\n",
            "TestLoss:0.996287,ACC:0.042200\n",
            "TestLoss:1.011212,ACC:0.042600\n",
            "TestLoss:1.026169,ACC:0.043200\n",
            "TestLoss:1.040851,ACC:0.043900\n",
            "TestLoss:1.055728,ACC:0.044500\n",
            "TestLoss:1.070570,ACC:0.045200\n",
            "TestLoss:1.085456,ACC:0.045900\n",
            "TestLoss:1.100392,ACC:0.047000\n",
            "TestLoss:1.115348,ACC:0.047500\n",
            "TestLoss:1.130358,ACC:0.047900\n",
            "TestLoss:1.145135,ACC:0.048500\n",
            "TestLoss:1.159986,ACC:0.049500\n",
            "TestLoss:1.174823,ACC:0.050300\n",
            "TestLoss:1.189623,ACC:0.051700\n",
            "TestLoss:1.204352,ACC:0.052500\n",
            "TestLoss:1.219279,ACC:0.053100\n",
            "TestLoss:1.234116,ACC:0.053900\n",
            "TestLoss:1.248916,ACC:0.054900\n",
            "TestLoss:1.263926,ACC:0.056300\n",
            "TestLoss:1.278712,ACC:0.057200\n",
            "TestLoss:1.293592,ACC:0.058000\n",
            "TestLoss:1.308562,ACC:0.058300\n",
            "TestLoss:1.323544,ACC:0.059100\n",
            "TestLoss:1.338335,ACC:0.060000\n",
            "TestLoss:1.353124,ACC:0.060700\n",
            "TestLoss:1.368024,ACC:0.061600\n",
            "TestLoss:1.382806,ACC:0.062400\n",
            "TestLoss:1.397793,ACC:0.063000\n",
            "TestLoss:1.412396,ACC:0.063700\n",
            "TestLoss:1.427178,ACC:0.064500\n",
            "TestLoss:1.441968,ACC:0.065100\n",
            "TestLoss:1.456832,ACC:0.066400\n",
            "TestLoss:1.471563,ACC:0.067100\n",
            "TestLoss:1.486188,ACC:0.068200\n",
            "TestLoss:1.501043,ACC:0.069200\n",
            "TestLoss:1.516059,ACC:0.070300\n",
            "TestLoss:1.530627,ACC:0.070700\n",
            "TestLoss:1.545686,ACC:0.071700\n",
            "TestLoss:1.560399,ACC:0.072800\n",
            "TestLoss:1.575203,ACC:0.073700\n",
            "TestLoss:1.589987,ACC:0.074100\n",
            "TestLoss:1.604853,ACC:0.074700\n",
            "TestLoss:1.619762,ACC:0.075300\n",
            "TestLoss:1.634448,ACC:0.076900\n",
            "TestLoss:1.649214,ACC:0.077600\n",
            "TestLoss:1.664051,ACC:0.078400\n",
            "TestLoss:1.678880,ACC:0.079500\n",
            "TestLoss:1.693780,ACC:0.080300\n",
            "TestLoss:1.708574,ACC:0.081200\n",
            "TestLoss:1.723377,ACC:0.082200\n",
            "TestLoss:1.738182,ACC:0.083200\n",
            "TestLoss:1.752909,ACC:0.084100\n",
            "TestLoss:1.767872,ACC:0.085000\n",
            "TestLoss:1.782786,ACC:0.085400\n",
            "TestLoss:1.797649,ACC:0.086200\n",
            "TestLoss:1.812414,ACC:0.087700\n",
            "TestLoss:1.827342,ACC:0.088400\n",
            "TestLoss:1.842081,ACC:0.089900\n",
            "TestLoss:1.856856,ACC:0.090600\n",
            "TestLoss:1.871670,ACC:0.091200\n",
            "TestLoss:1.886507,ACC:0.091500\n",
            "TestLoss:1.901296,ACC:0.092400\n",
            "TestLoss:1.916110,ACC:0.093200\n",
            "TestLoss:1.930867,ACC:0.094300\n",
            "TestLoss:1.945589,ACC:0.095100\n",
            "TestLoss:1.960369,ACC:0.096100\n",
            "TestLoss:1.975138,ACC:0.096600\n",
            "TestLoss:1.990069,ACC:0.097100\n",
            "TestLoss:2.004795,ACC:0.098300\n",
            "TestLoss:2.019740,ACC:0.099200\n",
            "TestLoss:2.034671,ACC:0.100100\n",
            "TestLoss:2.049325,ACC:0.101000\n",
            "TestLoss:2.064089,ACC:0.102000\n",
            "TestLoss:2.078848,ACC:0.103200\n",
            "TestLoss:2.093668,ACC:0.103800\n",
            "TestLoss:2.108329,ACC:0.104700\n",
            "TestLoss:2.123215,ACC:0.105600\n",
            "TestLoss:2.137879,ACC:0.107100\n",
            "TestLoss:2.152653,ACC:0.107600\n",
            "TestLoss:2.167551,ACC:0.108200\n",
            "TestLoss:2.182355,ACC:0.108900\n",
            "TestLoss:2.197284,ACC:0.109500\n",
            "TestLoss:2.211890,ACC:0.110600\n",
            "TestLoss:2.226664,ACC:0.111400\n",
            "TestLoss:2.241438,ACC:0.112400\n",
            "TestLoss:2.256334,ACC:0.113400\n",
            "TestLoss:2.271074,ACC:0.114300\n",
            "TestLoss:2.286044,ACC:0.114800\n",
            "TestLoss:2.300866,ACC:0.115400\n",
            "TestLoss:2.315634,ACC:0.116200\n",
            "TestLoss:2.319315,ACC:0.116300\n"
          ],
          "name": "stdout"
        }
      ]
    },
    {
      "cell_type": "code",
      "metadata": {
        "id": "3--26RIWgCel",
        "colab_type": "code",
        "colab": {
          "base_uri": "https://localhost:8080/",
          "height": 134
        },
        "outputId": "389941c2-689f-4736-e8d0-890a69ec43a9"
      },
      "source": [
        "import torch\n",
        "import torch.nn as nn\n",
        "import torch.nn.functional as F\n",
        "\n",
        "class Net(nn.Module):\n",
        "\n",
        "    def __init__(self):\n",
        "        super(Net, self).__init__()\n",
        "        # 1 input image channel, 6 output channels, 5x5 square convolution\n",
        "        # kernel\n",
        "        self.conv1 = nn.Conv2d(1, 6, 5)\n",
        "        self.conv2 = nn.Conv2d(6, 16, 5)\n",
        "        # an affine operation: y = Wx + b\n",
        "        self.fc1 = nn.Linear(16 * 5 * 5, 120)\n",
        "        self.fc2 = nn.Linear(120, 84)\n",
        "        self.fc3 = nn.Linear(84, 10)\n",
        "\n",
        "    def forward(self, x):\n",
        "        # Max pooling over a (2, 2) window\n",
        "        x = F.max_pool2d(F.relu(self.conv1(x)), (2, 2))\n",
        "        # If the size is a square you can only specify a single number\n",
        "        x = F.max_pool2d(F.relu(self.conv2(x)), 2)\n",
        "        x = x.view(-1, self.num_flat_features(x))\n",
        "        x = F.relu(self.fc1(x))\n",
        "        x = F.relu(self.fc2(x))\n",
        "        x = self.fc3(x)\n",
        "        return x\n",
        "\n",
        "    def num_flat_features(self, x):\n",
        "        size = x.size()[1:]  # all dimensions except the batch dimension\n",
        "        num_features = 1\n",
        "        for s in size:\n",
        "            num_features *= s\n",
        "        return num_features\n",
        "\n",
        "\n",
        "net = Net()\n",
        "print(net)\n"
      ],
      "execution_count": 14,
      "outputs": [
        {
          "output_type": "stream",
          "text": [
            "Net(\n",
            "  (conv1): Conv2d(1, 6, kernel_size=(5, 5), stride=(1, 1))\n",
            "  (conv2): Conv2d(6, 16, kernel_size=(5, 5), stride=(1, 1))\n",
            "  (fc1): Linear(in_features=400, out_features=120, bias=True)\n",
            "  (fc2): Linear(in_features=120, out_features=84, bias=True)\n",
            "  (fc3): Linear(in_features=84, out_features=10, bias=True)\n",
            ")\n"
          ],
          "name": "stdout"
        }
      ]
    },
    {
      "cell_type": "code",
      "metadata": {
        "id": "qWUDNlCvVOzN",
        "colab_type": "code",
        "colab": {
          "base_uri": "https://localhost:8080/",
          "height": 84
        },
        "outputId": "a6884711-cefa-491d-d2f2-fdea6a920f68"
      },
      "source": [
        "import torch\n",
        "import torchvision\n",
        "import torchvision.transforms as transforms\n",
        "transform = transforms.Compose(\n",
        "    [transforms.ToTensor(),\n",
        "     transforms.Normalize((0.5, 0.5, 0.5), (0.5, 0.5, 0.5))])\n",
        "\n",
        "trainset = torchvision.datasets.CIFAR10(root='./data', train=True,\n",
        "                                        download=True, transform=transform)\n",
        "trainloader = torch.utils.data.DataLoader(trainset, batch_size=4,\n",
        "                                          shuffle=True, num_workers=2)\n",
        "\n",
        "testset = torchvision.datasets.CIFAR10(root='./data', train=False,\n",
        "                                       download=True, transform=transform)\n",
        "testloader = torch.utils.data.DataLoader(testset, batch_size=4,\n",
        "                                         shuffle=False, num_workers=2)\n",
        "\n",
        "classes = ('plane', 'car', 'bird', 'cat',\n",
        "           'deer', 'dog', 'frog', 'horse', 'ship', 'truck')"
      ],
      "execution_count": 18,
      "outputs": [
        {
          "output_type": "stream",
          "text": [
            "\r0it [00:00, ?it/s]"
          ],
          "name": "stderr"
        },
        {
          "output_type": "stream",
          "text": [
            "Downloading https://www.cs.toronto.edu/~kriz/cifar-10-python.tar.gz to ./data/cifar-10-python.tar.gz\n"
          ],
          "name": "stdout"
        },
        {
          "output_type": "stream",
          "text": [
            "170500096it [00:04, 39591706.37it/s]                               \n"
          ],
          "name": "stderr"
        },
        {
          "output_type": "stream",
          "text": [
            "Extracting ./data/cifar-10-python.tar.gz to ./data\n",
            "Files already downloaded and verified\n"
          ],
          "name": "stdout"
        }
      ]
    },
    {
      "cell_type": "code",
      "metadata": {
        "id": "3zlP6lseYfzj",
        "colab_type": "code",
        "colab": {}
      },
      "source": [
        "import torch.nn as nn\n",
        "import torch.nn.functional as F\n",
        "\n",
        "class Net(nn.Module):\n",
        "    def __init__(self):\n",
        "        super(Net, self).__init__()\n",
        "        self.conv1 = nn.Conv2d(3, 6, 5)\n",
        "        self.pool = nn.MaxPool2d(2, 2)\n",
        "        self.conv2 = nn.Conv2d(6, 16, 5)\n",
        "        self.fc1 = nn.Linear(16 * 5 * 5, 120)\n",
        "        self.fc2 = nn.Linear(120, 84)\n",
        "        self.fc3 = nn.Linear(84, 10)\n",
        "\n",
        "    def forward(self, x):\n",
        "        x = self.pool(F.relu(self.conv1(x)))\n",
        "        x = self.pool(F.relu(self.conv2(x)))\n",
        "        x = x.view(-1, 16 * 5 * 5)\n",
        "        x = F.relu(self.fc1(x))\n",
        "        x = F.relu(self.fc2(x))\n",
        "        x = self.fc3(x)\n",
        "        return x\n",
        "\n",
        "net = Net()\n",
        "\n"
      ],
      "execution_count": 0,
      "outputs": []
    },
    {
      "cell_type": "code",
      "metadata": {
        "id": "viCOFnapYoqP",
        "colab_type": "code",
        "colab": {}
      },
      "source": [
        "import torch.optim as optim\n",
        "criterion = nn.CrossEntropyLoss()\n",
        "optimizer = optim.SGD(net.parameters(), lr=0.001, momentum=0.9)"
      ],
      "execution_count": 0,
      "outputs": []
    },
    {
      "cell_type": "code",
      "metadata": {
        "id": "m-V_e53RYsb0",
        "colab_type": "code",
        "colab": {
          "base_uri": "https://localhost:8080/",
          "height": 235
        },
        "outputId": "1c06e84b-0cea-4099-a7da-2e8695d4a053"
      },
      "source": [
        "for epoch in range(2):  # loop over the dataset multiple times\n",
        "\n",
        "    running_loss = 0.0\n",
        "    for i, data in enumerate(trainloader, 0):\n",
        "        # get the inputs\n",
        "        inputs, labels = data\n",
        "\n",
        "        # zero the parameter gradients\n",
        "        optimizer.zero_grad()\n",
        "\n",
        "        # forward + backward + optimize\n",
        "        outputs = net(inputs)\n",
        "        loss = criterion(outputs, labels)\n",
        "        loss.backward()\n",
        "        optimizer.step()\n",
        "\n",
        "        # print statistics\n",
        "        running_loss += loss.item()\n",
        "        if i % 2000 == 1999:    # print every 2000 mini-batches\n",
        "            print('[%d, %5d] loss: %.3f' %\n",
        "                  (epoch + 1, i + 1, running_loss / 2000))\n",
        "            running_loss = 0.0\n",
        "\n",
        "print('Finished Training')"
      ],
      "execution_count": 21,
      "outputs": [
        {
          "output_type": "stream",
          "text": [
            "[1,  2000] loss: 2.198\n",
            "[1,  4000] loss: 1.862\n",
            "[1,  6000] loss: 1.677\n",
            "[1,  8000] loss: 1.577\n",
            "[1, 10000] loss: 1.512\n",
            "[1, 12000] loss: 1.472\n",
            "[2,  2000] loss: 1.386\n",
            "[2,  4000] loss: 1.357\n",
            "[2,  6000] loss: 1.346\n",
            "[2,  8000] loss: 1.312\n",
            "[2, 10000] loss: 1.304\n",
            "[2, 12000] loss: 1.261\n",
            "Finished Training\n"
          ],
          "name": "stdout"
        }
      ]
    },
    {
      "cell_type": "code",
      "metadata": {
        "id": "v4-QSflFYw7c",
        "colab_type": "code",
        "colab": {
          "base_uri": "https://localhost:8080/",
          "height": 215
        },
        "outputId": "f5523551-099a-4bc2-80c0-b79a4245ba9b"
      },
      "source": [
        "dataiter = iter(testloader)\n",
        "images, labels = dataiter.next()\n",
        "# print images\n",
        "imshow(torchvision.utils.make_grid(images))\n",
        "print('GroundTruth: ', ' '.join('%5s' % classes[labels[j]] for j in range(4)))"
      ],
      "execution_count": 22,
      "outputs": [
        {
          "output_type": "error",
          "ename": "NameError",
          "evalue": "ignored",
          "traceback": [
            "\u001b[0;31m---------------------------------------------------------------------------\u001b[0m",
            "\u001b[0;31mNameError\u001b[0m                                 Traceback (most recent call last)",
            "\u001b[0;32m<ipython-input-22-9202177f689d>\u001b[0m in \u001b[0;36m<module>\u001b[0;34m()\u001b[0m\n\u001b[1;32m      2\u001b[0m \u001b[0mimages\u001b[0m\u001b[0;34m,\u001b[0m \u001b[0mlabels\u001b[0m \u001b[0;34m=\u001b[0m \u001b[0mdataiter\u001b[0m\u001b[0;34m.\u001b[0m\u001b[0mnext\u001b[0m\u001b[0;34m(\u001b[0m\u001b[0;34m)\u001b[0m\u001b[0;34m\u001b[0m\u001b[0;34m\u001b[0m\u001b[0m\n\u001b[1;32m      3\u001b[0m \u001b[0;31m# print images\u001b[0m\u001b[0;34m\u001b[0m\u001b[0;34m\u001b[0m\u001b[0;34m\u001b[0m\u001b[0m\n\u001b[0;32m----> 4\u001b[0;31m \u001b[0mimshow\u001b[0m\u001b[0;34m(\u001b[0m\u001b[0mtorchvision\u001b[0m\u001b[0;34m.\u001b[0m\u001b[0mutils\u001b[0m\u001b[0;34m.\u001b[0m\u001b[0mmake_grid\u001b[0m\u001b[0;34m(\u001b[0m\u001b[0mimages\u001b[0m\u001b[0;34m)\u001b[0m\u001b[0;34m)\u001b[0m\u001b[0;34m\u001b[0m\u001b[0;34m\u001b[0m\u001b[0m\n\u001b[0m\u001b[1;32m      5\u001b[0m \u001b[0mprint\u001b[0m\u001b[0;34m(\u001b[0m\u001b[0;34m'GroundTruth: '\u001b[0m\u001b[0;34m,\u001b[0m \u001b[0;34m' '\u001b[0m\u001b[0;34m.\u001b[0m\u001b[0mjoin\u001b[0m\u001b[0;34m(\u001b[0m\u001b[0;34m'%5s'\u001b[0m \u001b[0;34m%\u001b[0m \u001b[0mclasses\u001b[0m\u001b[0;34m[\u001b[0m\u001b[0mlabels\u001b[0m\u001b[0;34m[\u001b[0m\u001b[0mj\u001b[0m\u001b[0;34m]\u001b[0m\u001b[0;34m]\u001b[0m \u001b[0;32mfor\u001b[0m \u001b[0mj\u001b[0m \u001b[0;32min\u001b[0m \u001b[0mrange\u001b[0m\u001b[0;34m(\u001b[0m\u001b[0;36m4\u001b[0m\u001b[0;34m)\u001b[0m\u001b[0;34m)\u001b[0m\u001b[0;34m)\u001b[0m\u001b[0;34m\u001b[0m\u001b[0;34m\u001b[0m\u001b[0m\n",
            "\u001b[0;31mNameError\u001b[0m: name 'imshow' is not defined"
          ]
        }
      ]
    },
    {
      "cell_type": "code",
      "metadata": {
        "id": "j_P1BrOmbgIf",
        "colab_type": "code",
        "colab": {
          "base_uri": "https://localhost:8080/",
          "height": 34
        },
        "outputId": "a597688d-de80-4457-9f8e-922c4a586952"
      },
      "source": [
        "correct = 0\n",
        "total = 0\n",
        "with torch.no_grad():\n",
        "    for data in testloader:\n",
        "        images, labels = data\n",
        "        outputs = net(images)\n",
        "        _, predicted = torch.max(outputs.data, 1)\n",
        "        total += labels.size(0)\n",
        "        correct += (predicted == labels).sum().item()\n",
        "\n",
        "print('Accuracy of the network on the 10000 test images: %d %%' % (\n",
        "    100 * correct / total))"
      ],
      "execution_count": 23,
      "outputs": [
        {
          "output_type": "stream",
          "text": [
            "Accuracy of the network on the 10000 test images: 55 %\n"
          ],
          "name": "stdout"
        }
      ]
    },
    {
      "cell_type": "code",
      "metadata": {
        "id": "SWLeDw0JbzcU",
        "colab_type": "code",
        "colab": {
          "base_uri": "https://localhost:8080/",
          "height": 50
        },
        "outputId": "8725b29e-fded-4f4f-cb49-47cefb8ac96d"
      },
      "source": [
        "import torch\n",
        "import torchvision\n",
        "import torchvision.transforms as transforms\n",
        "import torch.nn as nn\n",
        "import torch.nn.functional as F\n",
        "import torch.optim as optim\n",
        "\n",
        "transform = transforms.Compose(\n",
        "    [transforms.ToTensor(),\n",
        "     transforms.Normalize((0.5, 0.5, 0.5), (0.5, 0.5, 0.5))])\n",
        "\n",
        "trainset = torchvision.datasets.CIFAR10(root='./data', train=True,\n",
        "                                        download=True, transform=transform)\n",
        "trainloader = torch.utils.data.DataLoader(trainset, batch_size=4,\n",
        "                                          shuffle=True, num_workers=2)\n",
        "\n",
        "testset = torchvision.datasets.CIFAR10(root='./data', train=False,\n",
        "                                       download=True, transform=transform)\n",
        "testloader = torch.utils.data.DataLoader(testset, batch_size=4,\n",
        "                                         shuffle=False, num_workers=2)\n",
        "\n",
        "classes = ('plane', 'car', 'bird', 'cat',\n",
        "           'deer', 'dog', 'frog', 'horse', 'ship', 'truck')"
      ],
      "execution_count": 6,
      "outputs": [
        {
          "output_type": "stream",
          "text": [
            "Files already downloaded and verified\n",
            "Files already downloaded and verified\n"
          ],
          "name": "stdout"
        }
      ]
    },
    {
      "cell_type": "code",
      "metadata": {
        "id": "wV0TpSyL7Lf3",
        "colab_type": "code",
        "colab": {
          "base_uri": "https://localhost:8080/",
          "height": 235
        },
        "outputId": "261fe3a6-4345-467c-8de7-3c5e71fdd16e"
      },
      "source": [
        "class Net(nn.Module):\n",
        "  def __init__(self):\n",
        "    super(Net, self).__init__()\n",
        "    self.conv1 = nn.Conv2d(3, 14, 5)\n",
        "    self.pool = nn.MaxPool2d(2, 2)\n",
        "    self.conv2 = nn.Conv2d(14, 16, 5)\n",
        "    self.fc1 = nn.Linear(16 * 5 * 5, 120)\n",
        "    self.fc2 = nn.Linear(120, 84)\n",
        "    self.fc3 = nn.Linear(84, 10)\n",
        "\n",
        "  def forward(self, x):\n",
        "    x = self.pool(F.relu(self.conv1(x)))\n",
        "    x = self.pool(F.relu(self.conv2(x)))\n",
        "    x = x.view(-1, 16 * 5 * 5)\n",
        "    x = F.relu(self.fc1(x))\n",
        "    x = F.relu(self.fc2(x))\n",
        "    x = self.fc3(x)\n",
        "    return x\n",
        "\n",
        "net = Net()\n",
        "device = torch.device(\"cuda:0\" if torch.cuda.is_available() else \"cpu\")\n",
        "net=net.to(device)\n",
        "criterion = nn.CrossEntropyLoss()\n",
        "optimizer = optim.SGD(net.parameters(), lr=0.001, momentum=0.9)\n",
        "\n",
        "for epoch in range(2):\n",
        "  run_loss=0.0\n",
        "  for i,data in enumerate(trainloader,0):\n",
        "    inputs,labels=data\n",
        "    inputs, labels = inputs.to(device), labels.to(device)\n",
        "    optimizer.zero_grad()\n",
        "    outputs=net(inputs)\n",
        "    loss=criterion(outputs,labels)\n",
        "    loss.backward()\n",
        "    optimizer.step()\n",
        "\n",
        "    run_loss+=loss.item()\n",
        "    if i%2000==1999:\n",
        "      print('[%d,%5d] loss:%.3f'%(epoch,i+1,run_loss/2000))\n",
        "      run_loss=0.0\n",
        "print('finish')\n",
        "\n",
        "\n",
        "    "
      ],
      "execution_count": 9,
      "outputs": [
        {
          "output_type": "stream",
          "text": [
            "[0, 2000] loss:2.214\n",
            "[0, 4000] loss:1.831\n",
            "[0, 6000] loss:1.635\n",
            "[0, 8000] loss:1.542\n",
            "[0,10000] loss:1.489\n",
            "[0,12000] loss:1.415\n",
            "[1, 2000] loss:1.348\n",
            "[1, 4000] loss:1.314\n",
            "[1, 6000] loss:1.281\n",
            "[1, 8000] loss:1.264\n",
            "[1,10000] loss:1.235\n",
            "[1,12000] loss:1.216\n",
            "finish\n"
          ],
          "name": "stdout"
        }
      ]
    },
    {
      "cell_type": "code",
      "metadata": {
        "id": "PvqBxzPLCLrO",
        "colab_type": "code",
        "colab": {}
      },
      "source": [
        ""
      ],
      "execution_count": 0,
      "outputs": []
    }
  ]
}